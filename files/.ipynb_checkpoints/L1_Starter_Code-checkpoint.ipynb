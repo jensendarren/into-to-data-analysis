{
 "cells": [
  {
   "cell_type": "markdown",
   "metadata": {
    "deletable": true,
    "editable": true
   },
   "source": [
    "## Load Data from CSVs"
   ]
  },
  {
   "cell_type": "code",
   "execution_count": 84,
   "metadata": {
    "collapsed": false,
    "deletable": true,
    "editable": true
   },
   "outputs": [],
   "source": [
    "import unicodecsv\n",
    "\n",
    "## Longer version of code (replaced with shorter, equivalent version below)\n",
    "\n",
    "# enrollments = []\n",
    "# f = open('enrollments.csv', 'rb')\n",
    "# reader = unicodecsv.DictReader(f)\n",
    "# for row in reader:\n",
    "#     enrollments.append(row)\n",
    "# f.close()\n",
    "\n",
    "with open('/Users/darren/workspace/learning/Udacity/Intro to Data Analysis/files/enrollments.csv', 'rb') as f:\n",
    "    reader = unicodecsv.DictReader(f)\n",
    "    enrollments = list(reader)\n",
    "    \n",
    "with open('/Users/darren/workspace/learning/Udacity/Intro to Data Analysis/files/daily_engagement.csv', 'rb') as f:\n",
    "    reader = unicodecsv.DictReader(f)\n",
    "    daily_engagement = list(reader)\n",
    "    \n",
    "with open('/Users/darren/workspace/learning/Udacity/Intro to Data Analysis/files/project_submissions.csv', 'rb') as f:\n",
    "    reader = unicodecsv.DictReader(f)\n",
    "    project_submissions = list(reader)"
   ]
  },
  {
   "cell_type": "code",
   "execution_count": 85,
   "metadata": {
    "collapsed": false,
    "deletable": true,
    "editable": true
   },
   "outputs": [
    {
     "name": "stdout",
     "output_type": "stream",
     "text": [
      "{'cancel_date': '2015-01-14', 'days_to_cancel': '65', 'join_date': '2014-11-10', 'is_udacity': 'True', 'is_canceled': 'True', 'account_key': '448', 'status': 'canceled'}\n",
      "{'lessons_completed': '0.0', 'utc_date': '2015-01-09', 'projects_completed': '0.0', 'total_minutes_visited': '11.6793745', 'acct': '0', 'num_courses_visited': '1.0'}\n",
      "{'creation_date': '2015-01-14', 'assigned_rating': 'UNGRADED', 'processing_state': 'EVALUATED', 'completion_date': '2015-01-16', 'lesson_key': '3176718735', 'account_key': '256'}\n"
     ]
    }
   ],
   "source": [
    "#####################################\n",
    "#                 1                 #\n",
    "#####################################\n",
    "\n",
    "## Read in the data from daily_engagement.csv and project_submissions.csv \n",
    "## and store the results in the below variables.\n",
    "## Then look at the first row of each table.\n",
    "\n",
    "print(enrollments[0])\n",
    "print(daily_engagement[0])\n",
    "print(project_submissions[0])"
   ]
  },
  {
   "cell_type": "markdown",
   "metadata": {
    "deletable": true,
    "editable": true
   },
   "source": [
    "## Fixing Data Types"
   ]
  },
  {
   "cell_type": "code",
   "execution_count": 86,
   "metadata": {
    "collapsed": false,
    "deletable": true,
    "editable": true
   },
   "outputs": [
    {
     "data": {
      "text/plain": [
       "{'account_key': '448',\n",
       " 'cancel_date': datetime.datetime(2015, 1, 14, 0, 0),\n",
       " 'days_to_cancel': 65,\n",
       " 'is_canceled': True,\n",
       " 'is_udacity': True,\n",
       " 'join_date': datetime.datetime(2014, 11, 10, 0, 0),\n",
       " 'status': 'canceled'}"
      ]
     },
     "execution_count": 86,
     "metadata": {},
     "output_type": "execute_result"
    }
   ],
   "source": [
    "from datetime import datetime as dt\n",
    "\n",
    "# Takes a date as a string, and returns a Python datetime object. \n",
    "# If there is no date given, returns None\n",
    "def parse_date(date):\n",
    "    if date == '':\n",
    "        return None\n",
    "    else:\n",
    "        return dt.strptime(date, '%Y-%m-%d')\n",
    "    \n",
    "# Takes a string which is either an empty string or represents an integer,\n",
    "# and returns an int or None.\n",
    "def parse_maybe_int(i):\n",
    "    if i == '':\n",
    "        return None\n",
    "    else:\n",
    "        return int(i)\n",
    "\n",
    "# Clean up the data types in the enrollments table\n",
    "for enrollment in enrollments:\n",
    "    enrollment['cancel_date'] = parse_date(enrollment['cancel_date'])\n",
    "    enrollment['days_to_cancel'] = parse_maybe_int(enrollment['days_to_cancel'])\n",
    "    enrollment['is_canceled'] = enrollment['is_canceled'] == 'True'\n",
    "    enrollment['is_udacity'] = enrollment['is_udacity'] == 'True'\n",
    "    enrollment['join_date'] = parse_date(enrollment['join_date'])\n",
    "    \n",
    "enrollments[0]"
   ]
  },
  {
   "cell_type": "code",
   "execution_count": 87,
   "metadata": {
    "collapsed": false,
    "deletable": true,
    "editable": true
   },
   "outputs": [
    {
     "data": {
      "text/plain": [
       "{'acct': '0',\n",
       " 'lessons_completed': 0,\n",
       " 'num_courses_visited': 1,\n",
       " 'projects_completed': 0,\n",
       " 'total_minutes_visited': 11.6793745,\n",
       " 'utc_date': datetime.datetime(2015, 1, 9, 0, 0)}"
      ]
     },
     "execution_count": 87,
     "metadata": {},
     "output_type": "execute_result"
    }
   ],
   "source": [
    "# Clean up the data types in the engagement table\n",
    "for engagement_record in daily_engagement:\n",
    "    engagement_record['lessons_completed'] = int(float(engagement_record['lessons_completed']))\n",
    "    engagement_record['num_courses_visited'] = int(float(engagement_record['num_courses_visited']))\n",
    "    engagement_record['projects_completed'] = int(float(engagement_record['projects_completed']))\n",
    "    engagement_record['total_minutes_visited'] = float(engagement_record['total_minutes_visited'])\n",
    "    engagement_record['utc_date'] = parse_date(engagement_record['utc_date'])\n",
    "    \n",
    "daily_engagement[0]"
   ]
  },
  {
   "cell_type": "code",
   "execution_count": 88,
   "metadata": {
    "collapsed": false,
    "deletable": true,
    "editable": true
   },
   "outputs": [
    {
     "data": {
      "text/plain": [
       "{'account_key': '256',\n",
       " 'assigned_rating': 'UNGRADED',\n",
       " 'completion_date': datetime.datetime(2015, 1, 16, 0, 0),\n",
       " 'creation_date': datetime.datetime(2015, 1, 14, 0, 0),\n",
       " 'lesson_key': '3176718735',\n",
       " 'processing_state': 'EVALUATED'}"
      ]
     },
     "execution_count": 88,
     "metadata": {},
     "output_type": "execute_result"
    }
   ],
   "source": [
    "# Clean up the data types in the submissions table\n",
    "for submission in project_submissions:\n",
    "    submission['completion_date'] = parse_date(submission['completion_date'])\n",
    "    submission['creation_date'] = parse_date(submission['creation_date'])\n",
    "\n",
    "project_submissions[0]"
   ]
  },
  {
   "cell_type": "markdown",
   "metadata": {
    "deletable": true,
    "editable": true
   },
   "source": [
    "## Problems in the Data"
   ]
  },
  {
   "cell_type": "code",
   "execution_count": 89,
   "metadata": {
    "collapsed": false,
    "deletable": true,
    "editable": true
   },
   "outputs": [],
   "source": [
    "#####################################\n",
    "#                 3                 #\n",
    "#####################################\n",
    "\n",
    "## Rename the \"acct\" column in the daily_engagement table to \"account_key\".\n",
    "for engagement in daily_engagement:\n",
    "    engagement['account_key'] = engagement.pop('acct')"
   ]
  },
  {
   "cell_type": "markdown",
   "metadata": {
    "deletable": true,
    "editable": true
   },
   "source": [
    "## Investigating the Data"
   ]
  },
  {
   "cell_type": "code",
   "execution_count": 90,
   "metadata": {
    "collapsed": false,
    "deletable": true,
    "editable": true
   },
   "outputs": [
    {
     "name": "stdout",
     "output_type": "stream",
     "text": [
      "Enrollment rows: 1640\n",
      "Engagement rows: 136240\n",
      "Submission rows: 3642\n",
      "Enrollment Uniq Students: 1302\n",
      "Engagement Uniq Students: 1237\n",
      "Submission Uniq Students: 743\n"
     ]
    }
   ],
   "source": [
    "#####################################\n",
    "#                 2                 #\n",
    "#####################################\n",
    "\n",
    "## Find the total number of rows and the number of unique students (account keys)\n",
    "## in each table.\n",
    "enrollment_num_rows = len(enrollments)\n",
    "uniq_account_keys = set([enrollment['account_key'] for enrollment in enrollments])\n",
    "enrollment_num_unique_students = len(uniq_account_keys)\n",
    "\n",
    "engagement_num_rows = len(daily_engagement)\n",
    "uniq_engagement_account_keys = set([engagement['account_key'] for engagement in daily_engagement])\n",
    "engagement_num_unique_students = len(uniq_engagement_account_keys)\n",
    "\n",
    "submission_num_rows = len(project_submissions)\n",
    "uniq_submission_account_keys = set([submission['account_key'] for submission in project_submissions])\n",
    "submission_num_unique_students = len(uniq_submission_account_keys)\n",
    "\n",
    "print(\"Enrollment rows: {}\".format(enrollment_num_rows))\n",
    "print(\"Engagement rows: {}\".format(engagement_num_rows))\n",
    "print(\"Submission rows: {}\".format(submission_num_rows))\n",
    "print(\"Enrollment Uniq Students: {}\".format(enrollment_num_unique_students))\n",
    "print(\"Engagement Uniq Students: {}\".format(engagement_num_unique_students))\n",
    "print(\"Submission Uniq Students: {}\".format(submission_num_unique_students))"
   ]
  },
  {
   "cell_type": "code",
   "execution_count": 91,
   "metadata": {
    "collapsed": false
   },
   "outputs": [
    {
     "data": {
      "text/plain": [
       "'0'"
      ]
     },
     "execution_count": 91,
     "metadata": {},
     "output_type": "execute_result"
    }
   ],
   "source": [
    "daily_engagement[0]['account_key']"
   ]
  },
  {
   "cell_type": "markdown",
   "metadata": {
    "deletable": true,
    "editable": true
   },
   "source": [
    "## Missing Engagement Records"
   ]
  },
  {
   "cell_type": "code",
   "execution_count": 110,
   "metadata": {
    "collapsed": false,
    "deletable": true,
    "editable": true
   },
   "outputs": [
    {
     "name": "stdout",
     "output_type": "stream",
     "text": [
      "Non engagement keys: 65\n",
      "926\n",
      "{'cancel_date': datetime.datetime(2014, 11, 12, 0, 0), 'days_to_cancel': 0, 'join_date': datetime.datetime(2014, 11, 12, 0, 0), 'is_udacity': False, 'is_canceled': True, 'account_key': '1219', 'status': 'canceled'}\n",
      "{'cancel_date': datetime.datetime(2014, 11, 13, 0, 0), 'days_to_cancel': 0, 'join_date': datetime.datetime(2014, 11, 13, 0, 0), 'is_udacity': False, 'is_canceled': True, 'account_key': '871', 'status': 'canceled'}\n",
      "{'cancel_date': datetime.datetime(2014, 11, 15, 0, 0), 'days_to_cancel': 0, 'join_date': datetime.datetime(2014, 11, 15, 0, 0), 'is_udacity': False, 'is_canceled': True, 'account_key': '1218', 'status': 'canceled'}\n",
      "{'cancel_date': datetime.datetime(2014, 12, 4, 0, 0), 'days_to_cancel': 0, 'join_date': datetime.datetime(2014, 12, 4, 0, 0), 'is_udacity': False, 'is_canceled': True, 'account_key': '654', 'status': 'canceled'}\n",
      "{'cancel_date': datetime.datetime(2014, 12, 4, 0, 0), 'days_to_cancel': 0, 'join_date': datetime.datetime(2014, 12, 4, 0, 0), 'is_udacity': False, 'is_canceled': True, 'account_key': '654', 'status': 'canceled'}\n",
      "{'cancel_date': datetime.datetime(2014, 12, 3, 0, 0), 'days_to_cancel': 0, 'join_date': datetime.datetime(2014, 12, 3, 0, 0), 'is_udacity': False, 'is_canceled': True, 'account_key': '654', 'status': 'canceled'}\n",
      "{'cancel_date': datetime.datetime(2014, 12, 4, 0, 0), 'days_to_cancel': 0, 'join_date': datetime.datetime(2014, 12, 4, 0, 0), 'is_udacity': False, 'is_canceled': True, 'account_key': '964', 'status': 'canceled'}\n",
      "{'cancel_date': datetime.datetime(2014, 12, 9, 0, 0), 'days_to_cancel': 0, 'join_date': datetime.datetime(2014, 12, 9, 0, 0), 'is_udacity': False, 'is_canceled': True, 'account_key': '817', 'status': 'canceled'}\n",
      "{'cancel_date': datetime.datetime(2015, 1, 7, 0, 0), 'days_to_cancel': 0, 'join_date': datetime.datetime(2015, 1, 7, 0, 0), 'is_udacity': False, 'is_canceled': True, 'account_key': '1171', 'status': 'canceled'}\n",
      "{'cancel_date': datetime.datetime(2015, 1, 8, 0, 0), 'days_to_cancel': 0, 'join_date': datetime.datetime(2015, 1, 8, 0, 0), 'is_udacity': False, 'is_canceled': True, 'account_key': '884', 'status': 'canceled'}\n",
      "{'cancel_date': datetime.datetime(2014, 11, 17, 0, 0), 'days_to_cancel': 0, 'join_date': datetime.datetime(2014, 11, 17, 0, 0), 'is_udacity': False, 'is_canceled': True, 'account_key': '875', 'status': 'canceled'}\n",
      "{'cancel_date': datetime.datetime(2014, 12, 4, 0, 0), 'days_to_cancel': 0, 'join_date': datetime.datetime(2014, 12, 4, 0, 0), 'is_udacity': False, 'is_canceled': True, 'account_key': '1120', 'status': 'canceled'}\n",
      "{'cancel_date': datetime.datetime(2014, 12, 5, 0, 0), 'days_to_cancel': 0, 'join_date': datetime.datetime(2014, 12, 5, 0, 0), 'is_udacity': False, 'is_canceled': True, 'account_key': '728', 'status': 'canceled'}\n",
      "{'cancel_date': datetime.datetime(2015, 1, 11, 0, 0), 'days_to_cancel': 0, 'join_date': datetime.datetime(2015, 1, 11, 0, 0), 'is_udacity': False, 'is_canceled': True, 'account_key': '1191', 'status': 'canceled'}\n",
      "{'cancel_date': datetime.datetime(2015, 3, 10, 0, 0), 'days_to_cancel': 59, 'join_date': datetime.datetime(2015, 1, 10, 0, 0), 'is_udacity': True, 'is_canceled': True, 'account_key': '1304', 'status': 'canceled'}\n",
      "{'cancel_date': datetime.datetime(2015, 6, 17, 0, 0), 'days_to_cancel': 99, 'join_date': datetime.datetime(2015, 3, 10, 0, 0), 'is_udacity': True, 'is_canceled': True, 'account_key': '1304', 'status': 'canceled'}\n",
      "{'cancel_date': datetime.datetime(2015, 1, 11, 0, 0), 'days_to_cancel': 0, 'join_date': datetime.datetime(2015, 1, 11, 0, 0), 'is_udacity': False, 'is_canceled': True, 'account_key': '1010', 'status': 'canceled'}\n",
      "{'cancel_date': datetime.datetime(2014, 11, 12, 0, 0), 'days_to_cancel': 0, 'join_date': datetime.datetime(2014, 11, 12, 0, 0), 'is_udacity': False, 'is_canceled': True, 'account_key': '841', 'status': 'canceled'}\n",
      "{'cancel_date': datetime.datetime(2014, 12, 3, 0, 0), 'days_to_cancel': 0, 'join_date': datetime.datetime(2014, 12, 3, 0, 0), 'is_udacity': False, 'is_canceled': True, 'account_key': '707', 'status': 'canceled'}\n",
      "{'cancel_date': datetime.datetime(2014, 12, 4, 0, 0), 'days_to_cancel': 0, 'join_date': datetime.datetime(2014, 12, 4, 0, 0), 'is_udacity': False, 'is_canceled': True, 'account_key': '717', 'status': 'canceled'}\n",
      "{'cancel_date': datetime.datetime(2014, 12, 7, 0, 0), 'days_to_cancel': 0, 'join_date': datetime.datetime(2014, 12, 7, 0, 0), 'is_udacity': False, 'is_canceled': True, 'account_key': '727', 'status': 'canceled'}\n",
      "{'cancel_date': datetime.datetime(2015, 1, 12, 0, 0), 'days_to_cancel': 0, 'join_date': datetime.datetime(2015, 1, 12, 0, 0), 'is_udacity': False, 'is_canceled': True, 'account_key': '1273', 'status': 'canceled'}\n",
      "{'cancel_date': datetime.datetime(2014, 11, 10, 0, 0), 'days_to_cancel': 0, 'join_date': datetime.datetime(2014, 11, 10, 0, 0), 'is_udacity': False, 'is_canceled': True, 'account_key': '1238', 'status': 'canceled'}\n",
      "{'cancel_date': datetime.datetime(2015, 2, 8, 0, 0), 'days_to_cancel': 0, 'join_date': datetime.datetime(2015, 2, 8, 0, 0), 'is_udacity': False, 'is_canceled': True, 'account_key': '1044', 'status': 'canceled'}\n",
      "{'cancel_date': datetime.datetime(2015, 3, 5, 0, 0), 'days_to_cancel': 0, 'join_date': datetime.datetime(2015, 3, 5, 0, 0), 'is_udacity': False, 'is_canceled': True, 'account_key': '749', 'status': 'canceled'}\n",
      "{'cancel_date': datetime.datetime(2015, 3, 7, 0, 0), 'days_to_cancel': 0, 'join_date': datetime.datetime(2015, 3, 7, 0, 0), 'is_udacity': False, 'is_canceled': True, 'account_key': '1129', 'status': 'canceled'}\n",
      "{'cancel_date': datetime.datetime(2015, 2, 11, 0, 0), 'days_to_cancel': 0, 'join_date': datetime.datetime(2015, 2, 11, 0, 0), 'is_udacity': False, 'is_canceled': True, 'account_key': '1129', 'status': 'canceled'}\n",
      "{'cancel_date': datetime.datetime(2015, 4, 6, 0, 0), 'days_to_cancel': 0, 'join_date': datetime.datetime(2015, 4, 6, 0, 0), 'is_udacity': False, 'is_canceled': True, 'account_key': '926', 'status': 'canceled'}\n",
      "{'cancel_date': datetime.datetime(2015, 5, 8, 0, 0), 'days_to_cancel': 0, 'join_date': datetime.datetime(2015, 5, 8, 0, 0), 'is_udacity': False, 'is_canceled': True, 'account_key': '711', 'status': 'canceled'}\n",
      "{'cancel_date': datetime.datetime(2015, 1, 8, 0, 0), 'days_to_cancel': 0, 'join_date': datetime.datetime(2015, 1, 8, 0, 0), 'is_udacity': False, 'is_canceled': True, 'account_key': '803', 'status': 'canceled'}\n",
      "{'cancel_date': datetime.datetime(2015, 2, 6, 0, 0), 'days_to_cancel': 0, 'join_date': datetime.datetime(2015, 2, 6, 0, 0), 'is_udacity': False, 'is_canceled': True, 'account_key': '799', 'status': 'canceled'}\n",
      "{'cancel_date': datetime.datetime(2015, 2, 6, 0, 0), 'days_to_cancel': 0, 'join_date': datetime.datetime(2015, 2, 6, 0, 0), 'is_udacity': False, 'is_canceled': True, 'account_key': '789', 'status': 'canceled'}\n",
      "{'cancel_date': datetime.datetime(2015, 3, 4, 0, 0), 'days_to_cancel': 0, 'join_date': datetime.datetime(2015, 3, 4, 0, 0), 'is_udacity': False, 'is_canceled': True, 'account_key': '819', 'status': 'canceled'}\n",
      "{'cancel_date': datetime.datetime(2015, 3, 4, 0, 0), 'days_to_cancel': 0, 'join_date': datetime.datetime(2015, 3, 4, 0, 0), 'is_udacity': False, 'is_canceled': True, 'account_key': '819', 'status': 'canceled'}\n",
      "{'cancel_date': datetime.datetime(2015, 5, 29, 0, 0), 'days_to_cancel': 0, 'join_date': datetime.datetime(2015, 5, 29, 0, 0), 'is_udacity': False, 'is_canceled': True, 'account_key': '902', 'status': 'canceled'}\n",
      "{'cancel_date': datetime.datetime(2015, 5, 29, 0, 0), 'days_to_cancel': 0, 'join_date': datetime.datetime(2015, 5, 29, 0, 0), 'is_udacity': False, 'is_canceled': True, 'account_key': '996', 'status': 'canceled'}\n",
      "{'cancel_date': datetime.datetime(2015, 1, 12, 0, 0), 'days_to_cancel': 0, 'join_date': datetime.datetime(2015, 1, 12, 0, 0), 'is_udacity': False, 'is_canceled': True, 'account_key': '1213', 'status': 'canceled'}\n",
      "{'cancel_date': datetime.datetime(2015, 1, 12, 0, 0), 'days_to_cancel': 0, 'join_date': datetime.datetime(2015, 1, 12, 0, 0), 'is_udacity': False, 'is_canceled': True, 'account_key': '733', 'status': 'canceled'}\n",
      "{'cancel_date': datetime.datetime(2015, 5, 28, 0, 0), 'days_to_cancel': 0, 'join_date': datetime.datetime(2015, 5, 28, 0, 0), 'is_udacity': False, 'is_canceled': True, 'account_key': '1237', 'status': 'canceled'}\n",
      "{'cancel_date': datetime.datetime(2015, 6, 1, 0, 0), 'days_to_cancel': 0, 'join_date': datetime.datetime(2015, 6, 1, 0, 0), 'is_udacity': True, 'is_canceled': True, 'account_key': '1069', 'status': 'canceled'}\n",
      "{'cancel_date': datetime.datetime(2015, 6, 9, 0, 0), 'days_to_cancel': 0, 'join_date': datetime.datetime(2015, 6, 9, 0, 0), 'is_udacity': False, 'is_canceled': True, 'account_key': '1086', 'status': 'canceled'}\n",
      "{'cancel_date': datetime.datetime(2015, 3, 6, 0, 0), 'days_to_cancel': 0, 'join_date': datetime.datetime(2015, 3, 6, 0, 0), 'is_udacity': False, 'is_canceled': True, 'account_key': '1190', 'status': 'canceled'}\n",
      "{'cancel_date': datetime.datetime(2015, 4, 2, 0, 0), 'days_to_cancel': 0, 'join_date': datetime.datetime(2015, 4, 2, 0, 0), 'is_udacity': False, 'is_canceled': True, 'account_key': '914', 'status': 'canceled'}\n",
      "{'cancel_date': datetime.datetime(2015, 7, 17, 0, 0), 'days_to_cancel': 0, 'join_date': datetime.datetime(2015, 7, 17, 0, 0), 'is_udacity': False, 'is_canceled': True, 'account_key': '914', 'status': 'canceled'}\n",
      "{'cancel_date': datetime.datetime(2015, 7, 17, 0, 0), 'days_to_cancel': 0, 'join_date': datetime.datetime(2015, 7, 17, 0, 0), 'is_udacity': False, 'is_canceled': True, 'account_key': '968', 'status': 'canceled'}\n",
      "{'cancel_date': datetime.datetime(2015, 7, 17, 0, 0), 'days_to_cancel': 0, 'join_date': datetime.datetime(2015, 7, 17, 0, 0), 'is_udacity': False, 'is_canceled': True, 'account_key': '1155', 'status': 'canceled'}\n",
      "{'cancel_date': datetime.datetime(2015, 5, 10, 0, 0), 'days_to_cancel': 0, 'join_date': datetime.datetime(2015, 5, 10, 0, 0), 'is_udacity': False, 'is_canceled': True, 'account_key': '766', 'status': 'canceled'}\n",
      "{'cancel_date': datetime.datetime(2015, 4, 5, 0, 0), 'days_to_cancel': 0, 'join_date': datetime.datetime(2015, 4, 5, 0, 0), 'is_udacity': False, 'is_canceled': True, 'account_key': '739', 'status': 'canceled'}\n",
      "{'cancel_date': datetime.datetime(2015, 4, 7, 0, 0), 'days_to_cancel': 0, 'join_date': datetime.datetime(2015, 4, 7, 0, 0), 'is_udacity': False, 'is_canceled': True, 'account_key': '1222', 'status': 'canceled'}\n",
      "{'cancel_date': datetime.datetime(2015, 5, 31, 0, 0), 'days_to_cancel': 0, 'join_date': datetime.datetime(2015, 5, 31, 0, 0), 'is_udacity': False, 'is_canceled': True, 'account_key': '1125', 'status': 'canceled'}\n",
      "{'cancel_date': datetime.datetime(2015, 6, 7, 0, 0), 'days_to_cancel': 0, 'join_date': datetime.datetime(2015, 6, 7, 0, 0), 'is_udacity': False, 'is_canceled': True, 'account_key': '1025', 'status': 'canceled'}\n",
      "{'cancel_date': datetime.datetime(2015, 6, 6, 0, 0), 'days_to_cancel': 0, 'join_date': datetime.datetime(2015, 6, 6, 0, 0), 'is_udacity': False, 'is_canceled': True, 'account_key': '750', 'status': 'canceled'}\n",
      "{'cancel_date': datetime.datetime(2015, 8, 11, 0, 0), 'days_to_cancel': 0, 'join_date': datetime.datetime(2015, 8, 11, 0, 0), 'is_udacity': False, 'is_canceled': True, 'account_key': '889', 'status': 'canceled'}\n",
      "{'cancel_date': datetime.datetime(2014, 11, 10, 0, 0), 'days_to_cancel': 0, 'join_date': datetime.datetime(2014, 11, 10, 0, 0), 'is_udacity': False, 'is_canceled': True, 'account_key': '737', 'status': 'canceled'}\n",
      "{'cancel_date': datetime.datetime(2014, 11, 10, 0, 0), 'days_to_cancel': 0, 'join_date': datetime.datetime(2014, 11, 10, 0, 0), 'is_udacity': False, 'is_canceled': True, 'account_key': '878', 'status': 'canceled'}\n",
      "{'cancel_date': datetime.datetime(2015, 2, 7, 0, 0), 'days_to_cancel': 0, 'join_date': datetime.datetime(2015, 2, 7, 0, 0), 'is_udacity': False, 'is_canceled': True, 'account_key': '981', 'status': 'canceled'}\n",
      "{'cancel_date': None, 'days_to_cancel': None, 'join_date': datetime.datetime(2015, 2, 25, 0, 0), 'is_udacity': True, 'is_canceled': False, 'account_key': '1101', 'status': 'current'}\n",
      "{'cancel_date': datetime.datetime(2015, 3, 9, 0, 0), 'days_to_cancel': 0, 'join_date': datetime.datetime(2015, 3, 9, 0, 0), 'is_udacity': False, 'is_canceled': True, 'account_key': '1148', 'status': 'canceled'}\n",
      "{'cancel_date': datetime.datetime(2015, 3, 11, 0, 0), 'days_to_cancel': 0, 'join_date': datetime.datetime(2015, 3, 11, 0, 0), 'is_udacity': False, 'is_canceled': True, 'account_key': '1186', 'status': 'canceled'}\n",
      "{'cancel_date': datetime.datetime(2014, 12, 6, 0, 0), 'days_to_cancel': 0, 'join_date': datetime.datetime(2014, 12, 6, 0, 0), 'is_udacity': False, 'is_canceled': True, 'account_key': '725', 'status': 'canceled'}\n",
      "{'cancel_date': datetime.datetime(2015, 4, 4, 0, 0), 'days_to_cancel': 0, 'join_date': datetime.datetime(2015, 4, 4, 0, 0), 'is_udacity': False, 'is_canceled': True, 'account_key': '1145', 'status': 'canceled'}\n",
      "{'cancel_date': datetime.datetime(2015, 1, 8, 0, 0), 'days_to_cancel': 0, 'join_date': datetime.datetime(2015, 1, 8, 0, 0), 'is_udacity': False, 'is_canceled': True, 'account_key': '802', 'status': 'canceled'}\n",
      "{'cancel_date': datetime.datetime(2015, 1, 8, 0, 0), 'days_to_cancel': 0, 'join_date': datetime.datetime(2015, 1, 8, 0, 0), 'is_udacity': False, 'is_canceled': True, 'account_key': '664', 'status': 'canceled'}\n",
      "{'cancel_date': datetime.datetime(2015, 1, 12, 0, 0), 'days_to_cancel': 0, 'join_date': datetime.datetime(2015, 1, 12, 0, 0), 'is_udacity': False, 'is_canceled': True, 'account_key': '997', 'status': 'canceled'}\n",
      "{'cancel_date': datetime.datetime(2015, 5, 12, 0, 0), 'days_to_cancel': 0, 'join_date': datetime.datetime(2015, 5, 12, 0, 0), 'is_udacity': False, 'is_canceled': True, 'account_key': '870', 'status': 'canceled'}\n",
      "{'cancel_date': datetime.datetime(2015, 1, 13, 0, 0), 'days_to_cancel': 0, 'join_date': datetime.datetime(2015, 1, 13, 0, 0), 'is_udacity': False, 'is_canceled': True, 'account_key': '1284', 'status': 'canceled'}\n",
      "{'cancel_date': datetime.datetime(2015, 2, 9, 0, 0), 'days_to_cancel': 0, 'join_date': datetime.datetime(2015, 2, 9, 0, 0), 'is_udacity': False, 'is_canceled': True, 'account_key': '1079', 'status': 'canceled'}\n",
      "{'cancel_date': datetime.datetime(2015, 7, 14, 0, 0), 'days_to_cancel': 0, 'join_date': datetime.datetime(2015, 7, 14, 0, 0), 'is_udacity': False, 'is_canceled': True, 'account_key': '1063', 'status': 'canceled'}\n",
      "{'cancel_date': datetime.datetime(2015, 7, 20, 0, 0), 'days_to_cancel': 0, 'join_date': datetime.datetime(2015, 7, 20, 0, 0), 'is_udacity': False, 'is_canceled': True, 'account_key': '1270', 'status': 'canceled'}\n",
      "{'cancel_date': datetime.datetime(2015, 6, 3, 0, 0), 'days_to_cancel': 0, 'join_date': datetime.datetime(2015, 6, 3, 0, 0), 'is_udacity': False, 'is_canceled': True, 'account_key': '1291', 'status': 'canceled'}\n",
      "{'cancel_date': datetime.datetime(2015, 6, 9, 0, 0), 'days_to_cancel': 0, 'join_date': datetime.datetime(2015, 6, 9, 0, 0), 'is_udacity': False, 'is_canceled': True, 'account_key': '1241', 'status': 'canceled'}\n"
     ]
    }
   ],
   "source": [
    "#####################################\n",
    "#                 4                 #\n",
    "#####################################\n",
    "\n",
    "## Find any one student enrollments where the student is missing from the daily engagement table.\n",
    "## Output that enrollment.\n",
    "\n",
    "# Use set difference operation\n",
    "non_engagement_keys = uniq_account_keys - uniq_engagement_account_keys\n",
    "print(\"Non engagement keys: {}\".format(len(non_engagement_keys)))\n",
    "print(sample_account_key)\n",
    "for enrollment in enrollments:\n",
    "    for non_engaged_account_key in non_engagement_keys:\n",
    "        if enrollment['account_key'] == non_engaged_account_key:\n",
    "            print(enrollment)\n",
    "            break"
   ]
  },
  {
   "cell_type": "markdown",
   "metadata": {
    "deletable": true,
    "editable": true
   },
   "source": [
    "## Checking for More Problem Records"
   ]
  },
  {
   "cell_type": "code",
   "execution_count": null,
   "metadata": {
    "collapsed": true,
    "deletable": true,
    "editable": true
   },
   "outputs": [],
   "source": [
    "#####################################\n",
    "#                 5                 #\n",
    "#####################################\n",
    "\n",
    "## Find the number of surprising data points (enrollments missing from\n",
    "## the engagement table) that remain, if any."
   ]
  },
  {
   "cell_type": "markdown",
   "metadata": {
    "deletable": true,
    "editable": true
   },
   "source": [
    "## Tracking Down the Remaining Problems"
   ]
  },
  {
   "cell_type": "code",
   "execution_count": null,
   "metadata": {
    "collapsed": true,
    "deletable": true,
    "editable": true
   },
   "outputs": [],
   "source": [
    "# Create a set of the account keys for all Udacity test accounts\n",
    "udacity_test_accounts = set()\n",
    "for enrollment in enrollments:\n",
    "    if enrollment['is_udacity']:\n",
    "        udacity_test_accounts.add(enrollment['account_key'])\n",
    "len(udacity_test_accounts)"
   ]
  },
  {
   "cell_type": "code",
   "execution_count": null,
   "metadata": {
    "collapsed": true,
    "deletable": true,
    "editable": true
   },
   "outputs": [],
   "source": [
    "# Given some data with an account_key field, removes any records corresponding to Udacity test accounts\n",
    "def remove_udacity_accounts(data):\n",
    "    non_udacity_data = []\n",
    "    for data_point in data:\n",
    "        if data_point['account_key'] not in udacity_test_accounts:\n",
    "            non_udacity_data.append(data_point)\n",
    "    return non_udacity_data"
   ]
  },
  {
   "cell_type": "code",
   "execution_count": null,
   "metadata": {
    "collapsed": true,
    "deletable": true,
    "editable": true
   },
   "outputs": [],
   "source": [
    "# Remove Udacity test accounts from all three tables\n",
    "non_udacity_enrollments = remove_udacity_accounts(enrollments)\n",
    "non_udacity_engagement = remove_udacity_accounts(daily_engagement)\n",
    "non_udacity_submissions = remove_udacity_accounts(project_submissions)\n",
    "\n",
    "print len(non_udacity_enrollments)\n",
    "print len(non_udacity_engagement)\n",
    "print len(non_udacity_submissions)"
   ]
  },
  {
   "cell_type": "markdown",
   "metadata": {
    "deletable": true,
    "editable": true
   },
   "source": [
    "## Refining the Question"
   ]
  },
  {
   "cell_type": "code",
   "execution_count": null,
   "metadata": {
    "collapsed": true,
    "deletable": true,
    "editable": true
   },
   "outputs": [],
   "source": [
    "#####################################\n",
    "#                 6                 #\n",
    "#####################################\n",
    "\n",
    "## Create a dictionary named paid_students containing all students who either\n",
    "## haven't canceled yet or who remained enrolled for more than 7 days. The keys\n",
    "## should be account keys, and the values should be the date the student enrolled.\n",
    "\n",
    "paid_students ="
   ]
  },
  {
   "cell_type": "markdown",
   "metadata": {
    "deletable": true,
    "editable": true
   },
   "source": [
    "## Getting Data from First Week"
   ]
  },
  {
   "cell_type": "code",
   "execution_count": null,
   "metadata": {
    "collapsed": true,
    "deletable": true,
    "editable": true
   },
   "outputs": [],
   "source": [
    "# Takes a student's join date and the date of a specific engagement record,\n",
    "# and returns True if that engagement record happened within one week\n",
    "# of the student joining.\n",
    "def within_one_week(join_date, engagement_date):\n",
    "    time_delta = engagement_date - join_date\n",
    "    return time_delta.days < 7"
   ]
  },
  {
   "cell_type": "code",
   "execution_count": null,
   "metadata": {
    "collapsed": true,
    "deletable": true,
    "editable": true
   },
   "outputs": [],
   "source": [
    "#####################################\n",
    "#                 7                 #\n",
    "#####################################\n",
    "\n",
    "## Create a list of rows from the engagement table including only rows where\n",
    "## the student is one of the paid students you just found, and the date is within\n",
    "## one week of the student's join date.\n",
    "\n",
    "paid_engagement_in_first_week = "
   ]
  },
  {
   "cell_type": "markdown",
   "metadata": {
    "deletable": true,
    "editable": true
   },
   "source": [
    "## Exploring Student Engagement"
   ]
  },
  {
   "cell_type": "code",
   "execution_count": null,
   "metadata": {
    "collapsed": true,
    "deletable": true,
    "editable": true
   },
   "outputs": [],
   "source": [
    "from collections import defaultdict\n",
    "\n",
    "# Create a dictionary of engagement grouped by student.\n",
    "# The keys are account keys, and the values are lists of engagement records.\n",
    "engagement_by_account = defaultdict(list)\n",
    "for engagement_record in paid_engagement_in_first_week:\n",
    "    account_key = engagement_record['account_key']\n",
    "    engagement_by_account[account_key].append(engagement_record)"
   ]
  },
  {
   "cell_type": "code",
   "execution_count": null,
   "metadata": {
    "collapsed": true,
    "deletable": true,
    "editable": true
   },
   "outputs": [],
   "source": [
    "# Create a dictionary with the total minutes each student spent in the classroom during the first week.\n",
    "# The keys are account keys, and the values are numbers (total minutes)\n",
    "total_minutes_by_account = {}\n",
    "for account_key, engagement_for_student in engagement_by_account.items():\n",
    "    total_minutes = 0\n",
    "    for engagement_record in engagement_for_student:\n",
    "        total_minutes += engagement_record['total_minutes_visited']\n",
    "    total_minutes_by_account[account_key] = total_minutes"
   ]
  },
  {
   "cell_type": "code",
   "execution_count": null,
   "metadata": {
    "collapsed": true,
    "deletable": true,
    "editable": true
   },
   "outputs": [],
   "source": [
    "import numpy as np\n",
    "\n",
    "# Summarize the data about minutes spent in the classroom\n",
    "total_minutes = total_minutes_by_account.values()\n",
    "print 'Mean:', np.mean(total_minutes)\n",
    "print 'Standard deviation:', np.std(total_minutes)\n",
    "print 'Minimum:', np.min(total_minutes)\n",
    "print 'Maximum:', np.max(total_minutes)"
   ]
  },
  {
   "cell_type": "markdown",
   "metadata": {
    "deletable": true,
    "editable": true
   },
   "source": [
    "## Debugging Data Analysis Code"
   ]
  },
  {
   "cell_type": "code",
   "execution_count": null,
   "metadata": {
    "collapsed": true,
    "deletable": true,
    "editable": true
   },
   "outputs": [],
   "source": [
    "#####################################\n",
    "#                 8                 #\n",
    "#####################################\n",
    "\n",
    "## Go through a similar process as before to see if there is a problem.\n",
    "## Locate at least one surprising piece of data, output it, and take a look at it."
   ]
  },
  {
   "cell_type": "markdown",
   "metadata": {
    "deletable": true,
    "editable": true
   },
   "source": [
    "## Lessons Completed in First Week"
   ]
  },
  {
   "cell_type": "code",
   "execution_count": null,
   "metadata": {
    "collapsed": true,
    "deletable": true,
    "editable": true
   },
   "outputs": [],
   "source": [
    "#####################################\n",
    "#                 9                 #\n",
    "#####################################\n",
    "\n",
    "## Adapt the code above to find the mean, standard deviation, minimum, and maximum for\n",
    "## the number of lessons completed by each student during the first week. Try creating\n",
    "## one or more functions to re-use the code above."
   ]
  },
  {
   "cell_type": "markdown",
   "metadata": {
    "deletable": true,
    "editable": true
   },
   "source": [
    "## Number of Visits in First Week"
   ]
  },
  {
   "cell_type": "code",
   "execution_count": null,
   "metadata": {
    "collapsed": true,
    "deletable": true,
    "editable": true
   },
   "outputs": [],
   "source": [
    "######################################\n",
    "#                 10                 #\n",
    "######################################\n",
    "\n",
    "## Find the mean, standard deviation, minimum, and maximum for the number of\n",
    "## days each student visits the classroom during the first week."
   ]
  },
  {
   "cell_type": "markdown",
   "metadata": {
    "deletable": true,
    "editable": true
   },
   "source": [
    "## Splitting out Passing Students"
   ]
  },
  {
   "cell_type": "code",
   "execution_count": null,
   "metadata": {
    "collapsed": true,
    "deletable": true,
    "editable": true
   },
   "outputs": [],
   "source": [
    "######################################\n",
    "#                 11                 #\n",
    "######################################\n",
    "\n",
    "## Create two lists of engagement data for paid students in the first week.\n",
    "## The first list should contain data for students who eventually pass the\n",
    "## subway project, and the second list should contain data for students\n",
    "## who do not.\n",
    "\n",
    "subway_project_lesson_keys = ['746169184', '3176718735']\n",
    "\n",
    "passing_engagement =\n",
    "non_passing_engagement ="
   ]
  },
  {
   "cell_type": "markdown",
   "metadata": {
    "deletable": true,
    "editable": true
   },
   "source": [
    "## Comparing the Two Student Groups"
   ]
  },
  {
   "cell_type": "code",
   "execution_count": null,
   "metadata": {
    "collapsed": true,
    "deletable": true,
    "editable": true
   },
   "outputs": [],
   "source": [
    "######################################\n",
    "#                 12                 #\n",
    "######################################\n",
    "\n",
    "## Compute some metrics you're interested in and see how they differ for\n",
    "## students who pass the subway project vs. students who don't. A good\n",
    "## starting point would be the metrics we looked at earlier (minutes spent\n",
    "## in the classroom, lessons completed, and days visited)."
   ]
  },
  {
   "cell_type": "markdown",
   "metadata": {
    "deletable": true,
    "editable": true
   },
   "source": [
    "## Making Histograms"
   ]
  },
  {
   "cell_type": "code",
   "execution_count": null,
   "metadata": {
    "collapsed": true,
    "deletable": true,
    "editable": true
   },
   "outputs": [],
   "source": [
    "######################################\n",
    "#                 13                 #\n",
    "######################################\n",
    "\n",
    "## Make histograms of the three metrics we looked at earlier for both\n",
    "## students who passed the subway project and students who didn't. You\n",
    "## might also want to make histograms of any other metrics you examined."
   ]
  },
  {
   "cell_type": "markdown",
   "metadata": {
    "deletable": true,
    "editable": true
   },
   "source": [
    "## Improving Plots and Sharing Findings"
   ]
  },
  {
   "cell_type": "code",
   "execution_count": null,
   "metadata": {
    "collapsed": true,
    "deletable": true,
    "editable": true
   },
   "outputs": [],
   "source": [
    "######################################\n",
    "#                 14                 #\n",
    "######################################\n",
    "\n",
    "## Make a more polished version of at least one of your visualizations\n",
    "## from earlier. Try importing the seaborn library to make the visualization\n",
    "## look better, adding axis labels and a title, and changing one or more\n",
    "## arguments to the hist() function."
   ]
  }
 ],
 "metadata": {
  "kernelspec": {
   "display_name": "Python 3",
   "language": "python",
   "name": "python3"
  },
  "language_info": {
   "codemirror_mode": {
    "name": "ipython",
    "version": 3
   },
   "file_extension": ".py",
   "mimetype": "text/x-python",
   "name": "python",
   "nbconvert_exporter": "python",
   "pygments_lexer": "ipython3",
   "version": "3.5.2"
  }
 },
 "nbformat": 4,
 "nbformat_minor": 0
}
